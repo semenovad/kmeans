{
 "cells": [
  {
   "cell_type": "code",
   "execution_count": 23,
   "metadata": {},
   "outputs": [],
   "source": [
    "%matplotlib inline\n",
    "import matplotlib.pyplot as plt\n",
    "import numpy as np\n",
    "\n",
    "#dataset\n",
    "from sklearn.datasets import make_blobs\n",
    "n_samples = 20\n",
    "centers = 3\n",
    "points, klasters = make_blobs(n_samples = n_samples, centers = centers, n_features = 2, random_state = 0)\n",
    "\n",
    "#centroids initilization\n",
    "def init_centroids1(points, centers):\n",
    "    centroids = points.copy()\n",
    "    np.random.shuffle(centroids)\n",
    "    centroids = centroids[:centers]\n",
    "    return centroids\n",
    "\n",
    "def init_centroids2(points, centers):\n",
    "    a = np.random.randint(0, centers, 1)\n",
    "    centroids[0] = points[a[0]]\n",
    "    for i in range(centers - 1):\n",
    "        Y = points - centroids[i]\n",
    "        centroids[i + 1] = np.max(Y, axis = 0)\n",
    "    return centroids\n",
    "\n",
    "#kmeans\n",
    "def kmeans(points, centroids):\n",
    "    #centroids that are the most closest to the points\n",
    "    \n",
    "    closest_centroids = "
   ]
  },
  {
   "cell_type": "code",
   "execution_count": null,
   "metadata": {},
   "outputs": [],
   "source": []
  }
 ],
 "metadata": {
  "kernelspec": {
   "display_name": "Python 3",
   "language": "python",
   "name": "python3"
  },
  "language_info": {
   "codemirror_mode": {
    "name": "ipython",
    "version": 3
   },
   "file_extension": ".py",
   "mimetype": "text/x-python",
   "name": "python",
   "nbconvert_exporter": "python",
   "pygments_lexer": "ipython3",
   "version": "3.6.4"
  }
 },
 "nbformat": 4,
 "nbformat_minor": 2
}
